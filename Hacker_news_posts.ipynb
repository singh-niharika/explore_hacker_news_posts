{
 "cells": [
  {
   "cell_type": "markdown",
   "metadata": {
    "collapsed": true
   },
   "source": [
    "# Exploring Hacker News Posts\n",
    "Hacker news is a site started by the startup incubator Y Combinator, where user-submitted stories (known as 'posts') are voted and commented upon, similar to reddit. Hacker News is extremely popular in technology and startup circles, and posts that make it to the top of Hacker News' listings can get hundreds of thousands of visitors as a result.\n",
    "\n",
    "The data set can be found [here](https://app.dataquest.io/m/356/guided-project%3A-exploring-hacker-news-posts) here, but note that it has been reduced from almost 300,000 rows to approximately 20,000 rows by removing all submissions that did not receive any comments, and then randomly sampling from the remaining submissions. Below are descriptions of the columns:\n",
    "\n",
    "- `id` - The unique identifier from Hacker News for the post\n",
    "- `title` - The title of the post\n",
    "- `url` - The URL that the posts links to, if it the post has a URL\n",
    "- `num_points` - The number of points the post acquired, calculated as the total number of upvotes minus the total number of downvotes\n",
    "- `num_comments` - The number of comments that were made on the post\n",
    "- `author` - The username of the person who submitted the post\n",
    "- `created_at` - The date and time at which the post was submitted\n",
    "\n",
    "We're specifically interested in posts whose titles begin with either `Ask HN` or `Show HN`. Users submit Ask HN posts to ask the Hacker News community a specific question. Below are a couple examples:\n",
    "\n",
    "We'll compare these two types of posts to determine the following:\n",
    "\n",
    "- Do `Ask HN` or `Show HN` receive more comments on average?\n",
    "- Do posts created at a certain time receive more comments on average?"
   ]
  },
  {
   "cell_type": "markdown",
   "metadata": {},
   "source": [
    "# Analyzing csv file"
   ]
  },
  {
   "cell_type": "code",
   "execution_count": 5,
   "metadata": {
    "collapsed": false
   },
   "outputs": [
    {
     "name": "stdout",
     "output_type": "stream",
     "text": [
      "['id', 'title', 'url', 'num_points', 'num_comments', 'author', 'created_at']\n",
      "\n",
      "\n",
      "['12224879', 'Interactive Dynamic Video', 'http://www.interactivedynamicvideo.com/', '386', '52', 'ne0phyte', '8/4/2016 11:52']\n",
      "\n",
      "\n",
      "['10975351', 'How to Use Open Source and Shut the Fuck Up at the Same Time', 'http://hueniverse.com/2016/01/26/how-to-use-open-source-and-shut-the-fuck-up-at-the-same-time/', '39', '10', 'josep2', '1/26/2016 19:30']\n",
      "\n",
      "\n",
      "['11964716', \"Florida DJs May Face Felony for April Fools' Water Joke\", 'http://www.thewire.com/entertainment/2013/04/florida-djs-april-fools-water-joke/63798/', '2', '1', 'vezycash', '6/23/2016 22:20']\n",
      "\n",
      "\n",
      "['11919867', 'Technology ventures: From Idea to Enterprise', 'https://www.amazon.com/Technology-Ventures-Enterprise-Thomas-Byers/dp/0073523429', '3', '1', 'hswarna', '6/17/2016 0:01']\n",
      "\n",
      "\n",
      "['10301696', 'Note by Note: The Making of Steinway L1037 (2007)', 'http://www.nytimes.com/2007/11/07/movies/07stein.html?_r=0', '8', '2', 'walterbell', '9/30/2015 4:12']\n",
      "\n",
      "\n"
     ]
    }
   ],
   "source": [
    "# Import file and display few rows\n",
    "# Remove header\n",
    "import csv\n",
    "hn = open('hacker_news.csv')\n",
    "hn = list(csv.reader(hn))\n",
    "hn_header = hn[0]\n",
    "hn = hn[1:]\n",
    "print(hn_header)\n",
    "print(\"\\n\")\n",
    "for row in hn[0:5]:\n",
    "    print(row)\n",
    "    print(\"\\n\")"
   ]
  },
  {
   "cell_type": "markdown",
   "metadata": {},
   "source": [
    "# Extracting Ask HN and Show HN Posts"
   ]
  },
  {
   "cell_type": "code",
   "execution_count": 6,
   "metadata": {
    "collapsed": false
   },
   "outputs": [
    {
     "name": "stdout",
     "output_type": "stream",
     "text": [
      "Number of 'ask hn' posts =  1744\n",
      "\n",
      "\n",
      "Number of 'show hn' posts =  1162\n",
      "\n",
      "\n",
      "Number of other posts =  17194\n"
     ]
    }
   ],
   "source": [
    "ask_posts = []\n",
    "show_posts = []\n",
    "other_posts = []\n",
    "for row in hn:\n",
    "    title = row[1]\n",
    "    title = title.lower()\n",
    "    row[1] = title\n",
    "    if title.startswith('ask hn'):\n",
    "        ask_posts.append(row)\n",
    "    elif title.startswith('show hn'): \n",
    "        show_posts.append(row)\n",
    "    else:\n",
    "        other_posts.append(row)\n",
    "\n",
    "\n",
    "print(\"Number of 'ask hn' posts = \", len(ask_posts))\n",
    "print('\\n')\n",
    "\n",
    "print(\"Number of 'show hn' posts = \", len(show_posts))\n",
    "print('\\n')\n",
    "\n",
    "print(\"Number of other posts = \", len(other_posts))\n",
    "      "
   ]
  },
  {
   "cell_type": "code",
   "execution_count": 7,
   "metadata": {
    "collapsed": false
   },
   "outputs": [
    {
     "name": "stdout",
     "output_type": "stream",
     "text": [
      "[['12296411', 'ask hn: how to improve my personal website?', '', '2', '6', 'ahmedbaracat', '8/16/2016 9:55'], ['10610020', 'ask hn: am i the only one outraged by twitter shutting down share counts?', '', '28', '29', 'tkfx', '11/22/2015 13:43']]\n",
      "\n",
      "\n",
      "[['10627194', 'show hn: wio link  esp8266 based web of things hardware development platform', 'https://iot.seeed.cc', '26', '22', 'kfihihc', '11/25/2015 14:03'], ['10646440', 'show hn: something pointless i made', 'http://dn.ht/picklecat/', '747', '102', 'dhotson', '11/29/2015 22:46']]\n"
     ]
    }
   ],
   "source": [
    "print(ask_posts[0:2])\n",
    "print('\\n')\n",
    "print(show_posts[0:2])"
   ]
  },
  {
   "cell_type": "markdown",
   "metadata": {},
   "source": [
    "# Calculating the Average Number of Comments for Ask HN and Show HN Posts\n",
    "\n",
    "\n"
   ]
  },
  {
   "cell_type": "code",
   "execution_count": 8,
   "metadata": {
    "collapsed": false
   },
   "outputs": [
    {
     "name": "stdout",
     "output_type": "stream",
     "text": [
      "avg_ask_comments= 14.038417431192661\n"
     ]
    }
   ],
   "source": [
    "total_ask_comments = 0\n",
    "for post in ask_posts:\n",
    "    num_comments = int(post[4])\n",
    "    total_ask_comments += num_comments\n",
    "\n",
    "avg_ask_comments = total_ask_comments/len(ask_posts)\n",
    "print('avg_ask_comments=', avg_ask_comments)\n",
    "    "
   ]
  },
  {
   "cell_type": "code",
   "execution_count": 9,
   "metadata": {
    "collapsed": false
   },
   "outputs": [
    {
     "name": "stdout",
     "output_type": "stream",
     "text": [
      "avg_show_comments= 10.31669535283993\n"
     ]
    }
   ],
   "source": [
    "total_show_comments = 0\n",
    "for post in show_posts:\n",
    "    num_comments = int(post[4])\n",
    "    total_show_comments += num_comments\n",
    "\n",
    "avg_show_comments = total_show_comments/len(show_posts)\n",
    "print('avg_show_comments=', avg_show_comments)\n",
    "    "
   ]
  },
  {
   "cell_type": "markdown",
   "metadata": {},
   "source": [
    "Ask posts receive more comments on average than show posts. We will focus our remaining analysis just on these ask posts.\n",
    "\n",
    "Next, we'll determine if ask posts created at a certain time are more likely to attract comments. We'll use the following steps to perform this analysis:\n",
    "\n",
    "- Calculate the amount of ask posts created in each hour of the day, along with the number of comments received.\n",
    "- Calculate the average number of comments ask posts receive by hour created."
   ]
  },
  {
   "cell_type": "markdown",
   "metadata": {},
   "source": [
    "# Finding the Amount of Ask Posts and Comments by Hour Created"
   ]
  },
  {
   "cell_type": "code",
   "execution_count": 13,
   "metadata": {
    "collapsed": false
   },
   "outputs": [
    {
     "name": "stdout",
     "output_type": "stream",
     "text": [
      "[['8/16/2016 9:55', 6], ['11/22/2015 13:43', 29]]\n"
     ]
    }
   ],
   "source": [
    "import datetime as dt\n",
    "result_list = [[post[6], int(post[4])] for post in ask_posts]\n",
    "print(result_list[0:2])   "
   ]
  },
  {
   "cell_type": "code",
   "execution_count": 20,
   "metadata": {
    "collapsed": false
   },
   "outputs": [
    {
     "name": "stdout",
     "output_type": "stream",
     "text": [
      "hour number of comments\n",
      "04 337\n",
      "17 1146\n",
      "23 543\n",
      "12 687\n",
      "03 421\n",
      "02 1381\n",
      "06 397\n",
      "13 1253\n",
      "19 1188\n",
      "22 479\n",
      "14 1416\n",
      "11 641\n",
      "20 1722\n",
      "15 4477\n",
      "08 492\n",
      "10 793\n",
      "01 683\n",
      "21 1745\n",
      "09 251\n",
      "00 447\n",
      "18 1439\n",
      "16 1814\n",
      "07 267\n",
      "05 464\n",
      "hour number of posts\n",
      "04 47\n",
      "17 100\n",
      "23 68\n",
      "12 73\n",
      "03 54\n",
      "02 58\n",
      "06 44\n",
      "13 85\n",
      "19 110\n",
      "22 71\n",
      "14 107\n",
      "11 58\n",
      "20 80\n",
      "15 116\n",
      "08 48\n",
      "10 59\n",
      "01 60\n",
      "21 109\n",
      "09 45\n",
      "00 55\n",
      "18 109\n",
      "16 108\n",
      "07 34\n",
      "05 46\n"
     ]
    }
   ],
   "source": [
    "counts_by_hour = {}\n",
    "comments_by_hour = {}\n",
    "date_format = \"%m/%d/%Y %H:%M\"\n",
    "\n",
    "for row in result_list:\n",
    "    date = row[0]\n",
    "    comment = row[1]\n",
    "    hour = dt.datetime.strptime(date, date_format)\n",
    "    hour = dt.datetime.strftime(hour, \"%H\")\n",
    "    if hour not in counts_by_hour:\n",
    "        counts_by_hour[hour] = 1\n",
    "        comments_by_hour[hour] = row[1]\n",
    "    else:\n",
    "        counts_by_hour[hour] += 1\n",
    "        comments_by_hour[hour] += row[1]\n",
    "        \n",
    "print('hour','number of comments')\n",
    "for key in comments_by_hour:\n",
    "    print(key,comments_by_hour[key])\n",
    "    \n",
    "print('hour','number of posts')    \n",
    "for key in counts_by_hour:\n",
    "    print(key,counts_by_hour[key])      \n",
    "        "
   ]
  },
  {
   "cell_type": "code",
   "execution_count": 28,
   "metadata": {
    "collapsed": false
   },
   "outputs": [
    {
     "name": "stdout",
     "output_type": "stream",
     "text": [
      "15 : 4477\n",
      "16 : 1814\n",
      "21 : 1745\n",
      "20 : 1722\n",
      "18 : 1439\n",
      "14 : 1416\n",
      "02 : 1381\n",
      "13 : 1253\n",
      "19 : 1188\n",
      "17 : 1146\n",
      "10 : 793\n",
      "12 : 687\n",
      "01 : 683\n",
      "11 : 641\n",
      "23 : 543\n",
      "08 : 492\n",
      "22 : 479\n",
      "05 : 464\n",
      "00 : 447\n",
      "03 : 421\n",
      "06 : 397\n",
      "04 : 337\n",
      "07 : 267\n",
      "09 : 251\n"
     ]
    }
   ],
   "source": [
    "# Arrange the above in descending order\n",
    "def dict_to_table(table):\n",
    "    table_display = []\n",
    "    for key in table:\n",
    "        key_val_as_tuple = (table[key], key)\n",
    "        table_display.append(key_val_as_tuple)\n",
    "        \n",
    "    table_sorted = sorted(table_display, reverse = True)\n",
    "    for entry in table_sorted:\n",
    "        print(entry[1], ':', round(entry[0],2))\n",
    "        \n",
    "dict_to_table(comments_by_hour)"
   ]
  },
  {
   "cell_type": "code",
   "execution_count": 22,
   "metadata": {
    "collapsed": false
   },
   "outputs": [
    {
     "name": "stdout",
     "output_type": "stream",
     "text": [
      "15 : 116\n",
      "19 : 110\n",
      "21 : 109\n",
      "18 : 109\n",
      "16 : 108\n",
      "14 : 107\n",
      "17 : 100\n",
      "13 : 85\n",
      "20 : 80\n",
      "12 : 73\n",
      "22 : 71\n",
      "23 : 68\n",
      "01 : 60\n",
      "10 : 59\n",
      "11 : 58\n",
      "02 : 58\n",
      "00 : 55\n",
      "03 : 54\n",
      "08 : 48\n",
      "04 : 47\n",
      "05 : 46\n",
      "09 : 45\n",
      "06 : 44\n",
      "07 : 34\n"
     ]
    }
   ],
   "source": [
    "dict_to_table(counts_by_hour)"
   ]
  },
  {
   "cell_type": "markdown",
   "metadata": {},
   "source": [
    "# Calculating the Average Number of Comments for Ask HN Posts by Hour"
   ]
  },
  {
   "cell_type": "code",
   "execution_count": 25,
   "metadata": {
    "collapsed": false
   },
   "outputs": [
    {
     "data": {
      "text/plain": [
       "{'00': 8.127272727272727,\n",
       " '01': 11.383333333333333,\n",
       " '02': 23.810344827586206,\n",
       " '03': 7.796296296296297,\n",
       " '04': 7.170212765957447,\n",
       " '05': 10.08695652173913,\n",
       " '06': 9.022727272727273,\n",
       " '07': 7.852941176470588,\n",
       " '08': 10.25,\n",
       " '09': 5.5777777777777775,\n",
       " '10': 13.440677966101696,\n",
       " '11': 11.051724137931034,\n",
       " '12': 9.41095890410959,\n",
       " '13': 14.741176470588234,\n",
       " '14': 13.233644859813085,\n",
       " '15': 38.5948275862069,\n",
       " '16': 16.796296296296298,\n",
       " '17': 11.46,\n",
       " '18': 13.20183486238532,\n",
       " '19': 10.8,\n",
       " '20': 21.525,\n",
       " '21': 16.009174311926607,\n",
       " '22': 6.746478873239437,\n",
       " '23': 7.985294117647059}"
      ]
     },
     "execution_count": 25,
     "metadata": {},
     "output_type": "execute_result"
    }
   ],
   "source": [
    "avg_by_hour = {}\n",
    "\n",
    "for hour in comments_by_hour:\n",
    "    avg_by_hour[hour] = comments_by_hour[hour]/counts_by_hour[hour]\n",
    "\n",
    "avg_by_hour"
   ]
  },
  {
   "cell_type": "code",
   "execution_count": 29,
   "metadata": {
    "collapsed": false
   },
   "outputs": [
    {
     "name": "stdout",
     "output_type": "stream",
     "text": [
      "15 : 38.59\n",
      "02 : 23.81\n",
      "20 : 21.52\n",
      "16 : 16.8\n",
      "21 : 16.01\n",
      "13 : 14.74\n",
      "10 : 13.44\n",
      "14 : 13.23\n",
      "18 : 13.2\n",
      "17 : 11.46\n",
      "01 : 11.38\n",
      "11 : 11.05\n",
      "19 : 10.8\n",
      "08 : 10.25\n",
      "05 : 10.09\n",
      "12 : 9.41\n",
      "06 : 9.02\n",
      "00 : 8.13\n",
      "23 : 7.99\n",
      "07 : 7.85\n",
      "03 : 7.8\n",
      "04 : 7.17\n",
      "22 : 6.75\n",
      "09 : 5.58\n"
     ]
    }
   ],
   "source": [
    "dict_to_table(avg_by_hour)"
   ]
  },
  {
   "cell_type": "markdown",
   "metadata": {},
   "source": [
    "Top 5 Hours for 'Ask HN' Comments\n",
    "\n",
    "- 15:00: 38.59 average comments per post\n",
    "- 02:00: 23.81 average comments per post\n",
    "- 20:00: 21.52 average comments per post\n",
    "- 16:00: 16.80 average comments per post\n",
    "- 21:00: 16.01 average comments per post\n",
    "\n",
    "The hour that receives the most comments per post on average is 15:00, with an average of 38.59 comments per post. There's about a 60% increase in the number of comments between the hours with the highest and second highest average number of comments.\n",
    "\n",
    "According to the data set [documentation](https://www.kaggle.com/hacker-news/hacker-news-posts/home), the timezone used is Eastern Time in the US. So, we could also write 15:00 as 3:00 pm est."
   ]
  },
  {
   "cell_type": "markdown",
   "metadata": {},
   "source": [
    "# Conclusion\n",
    "\n",
    "In this project, we analyzed ask posts and show posts to determine which type of post and time receive the most comments on average. Based on our analysis, to maximize the amount of comments a post receives, we'd recommend the post be categorized as ask post and created between 15:00 and 16:00 (3:00 pm est - 4:00 pm est).\n",
    "\n",
    "However, it should be noted that the data set we analyzed excluded posts without any comments. Given that, it's more accurate to say that of the posts that received comments, ask posts received more comments on average and ask posts created between 15:00 and 16:00 (3:00 pm est - 4:00 pm est) received the most comments on average."
   ]
  },
  {
   "cell_type": "markdown",
   "metadata": {},
   "source": [
    "Quick summary:\n",
    "\n",
    "- We set a goal for the project.\n",
    "- We collected and sorted the data.\n",
    "- We reformatted and cleaned the data to prepare it for analysis.\n",
    "- We analyzed the data."
   ]
  },
  {
   "cell_type": "code",
   "execution_count": null,
   "metadata": {
    "collapsed": true
   },
   "outputs": [],
   "source": []
  }
 ],
 "metadata": {
  "kernelspec": {
   "display_name": "Python 3",
   "language": "python",
   "name": "python3"
  },
  "language_info": {
   "codemirror_mode": {
    "name": "ipython",
    "version": 3
   },
   "file_extension": ".py",
   "mimetype": "text/x-python",
   "name": "python",
   "nbconvert_exporter": "python",
   "pygments_lexer": "ipython3",
   "version": "3.4.3"
  }
 },
 "nbformat": 4,
 "nbformat_minor": 2
}
